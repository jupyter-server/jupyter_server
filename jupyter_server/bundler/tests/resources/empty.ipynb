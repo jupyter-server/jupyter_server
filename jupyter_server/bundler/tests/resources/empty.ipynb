{
  "nbformat_minor": 0,
  "cells": [],
  "nbformat": 4,
  "metadata": {}
}